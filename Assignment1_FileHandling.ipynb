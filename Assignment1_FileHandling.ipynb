{
 "cells": [
  {
   "cell_type": "code",
   "execution_count": 3,
   "id": "c6cb890b",
   "metadata": {},
   "outputs": [
    {
     "name": "stdout",
     "output_type": "stream",
     "text": [
      "Original Content\n",
      "\n",
      "This is a placement assignment. \n",
      "\n",
      "Updated Content \n",
      "\n",
      "This is a screening assignment. \n"
     ]
    }
   ],
   "source": [
    "try:\n",
    "    f = open(\"example.txt\",'r+')\n",
    "except Exception as e:\n",
    "    print('Error : ',e)\n",
    "else:\n",
    "    contents = f.read()\n",
    "    content_words = contents.split(' ')\n",
    "    updated_content=''\n",
    "    for i in content_words:\n",
    "        if i == 'placement':\n",
    "            i = 'screening'\n",
    "        updated_content = updated_content+i+' '\n",
    "    f.seek(0)\n",
    "    f.write(updated_content)\n",
    "    print('Original Content\\n')\n",
    "    print(contents,'\\n')\n",
    "    print('Updated Content \\n')\n",
    "    print(updated_content)\n",
    "    f.close()\n"
   ]
  },
  {
   "cell_type": "code",
   "execution_count": null,
   "id": "94ac30ed",
   "metadata": {},
   "outputs": [],
   "source": []
  }
 ],
 "metadata": {
  "kernelspec": {
   "display_name": "Python 3 (ipykernel)",
   "language": "python",
   "name": "python3"
  },
  "language_info": {
   "codemirror_mode": {
    "name": "ipython",
    "version": 3
   },
   "file_extension": ".py",
   "mimetype": "text/x-python",
   "name": "python",
   "nbconvert_exporter": "python",
   "pygments_lexer": "ipython3",
   "version": "3.9.7"
  }
 },
 "nbformat": 4,
 "nbformat_minor": 5
}
