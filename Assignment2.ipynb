{
 "cells": [
  {
   "cell_type": "markdown",
   "id": "1620e70f",
   "metadata": {},
   "source": [
    "# Abstract Class"
   ]
  },
  {
   "cell_type": "markdown",
   "id": "d995a2cd",
   "metadata": {},
   "source": [
    "Abstract class is a class that allows us to create methods that must be\n",
    "created within every child class built from that abstract class. An abstract\n",
    "class will have abstract methods, these methods will have a definition but no implementation.\n",
    "By default python doesnot provide abstract classes, it comes with a module that provides the base \n",
    "for defining abstract base classes called ABC.\n",
    "We cannot instantiate an abstract class because they are incomplete. They have methods with definition\n",
    "but no implementation.\n",
    "So we use an abstract class as a template and according to the need, we extend it and build on it before we can use it.\n",
    "Abstrct methods can be defined by '@abstractmethod'."
   ]
  },
  {
   "cell_type": "code",
   "execution_count": 8,
   "id": "fb8d72cc",
   "metadata": {},
   "outputs": [],
   "source": [
    "#Here Movie is a abstract class with abstract method genre\n",
    "#Now classes Action,Adventure and Commedy are child classes of Movie \n",
    "#The child classes have the same abstract method as the class Movie but are implemented diffrently\n",
    "from abc import ABC,abstractmethod\n",
    "class Movie(ABC):\n",
    "    @abstractmethod\n",
    "    def genre(self):\n",
    "        pass\n",
    "    \n",
    "class Action(Movie):\n",
    "    def genre(self):\n",
    "        print(\"Genre is Action\")\n",
    "        \n",
    "class Adventure(Movie):\n",
    "    def genre(self):\n",
    "        print(\"Genre is Adventure\")\n",
    "        \n",
    "class Commedy(Movie):\n",
    "    def genre(self):\n",
    "        print(\"Genre is Commedy\")\n",
    "        "
   ]
  },
  {
   "cell_type": "code",
   "execution_count": 9,
   "id": "214c23e4",
   "metadata": {},
   "outputs": [
    {
     "name": "stdout",
     "output_type": "stream",
     "text": [
      "Genre is Action\n",
      "Genre is Adventure\n",
      "Genre is Commedy\n"
     ]
    }
   ],
   "source": [
    "# Here we are calling genre function for each child class of Movie\n",
    "# Movie is an abstract class having a abstract method genre\n",
    "# All the subclasses heve the genre function and each genre function is implemented accordingly\n",
    "a = Action()\n",
    "a.genre()\n",
    "\n",
    "ad = Adventure()\n",
    "ad.genre()\n",
    "\n",
    "c = Commedy()\n",
    "c.genre()"
   ]
  },
  {
   "cell_type": "code",
   "execution_count": 10,
   "id": "b380539f",
   "metadata": {},
   "outputs": [
    {
     "ename": "TypeError",
     "evalue": "Can't instantiate abstract class Movie with abstract method genre",
     "output_type": "error",
     "traceback": [
      "\u001b[1;31m---------------------------------------------------------------------------\u001b[0m",
      "\u001b[1;31mTypeError\u001b[0m                                 Traceback (most recent call last)",
      "\u001b[1;32m~\\AppData\\Local\\Temp/ipykernel_9880/245791087.py\u001b[0m in \u001b[0;36m<module>\u001b[1;34m\u001b[0m\n\u001b[1;32m----> 1\u001b[1;33m \u001b[0mm\u001b[0m \u001b[1;33m=\u001b[0m \u001b[0mMovie\u001b[0m\u001b[1;33m(\u001b[0m\u001b[1;33m)\u001b[0m\u001b[1;33m\u001b[0m\u001b[1;33m\u001b[0m\u001b[0m\n\u001b[0m",
      "\u001b[1;31mTypeError\u001b[0m: Can't instantiate abstract class Movie with abstract method genre"
     ]
    }
   ],
   "source": [
    "# We cannot instantiate an abstract class\n",
    "m = Movie()"
   ]
  },
  {
   "cell_type": "markdown",
   "id": "b63dbbb2",
   "metadata": {},
   "source": [
    "# Multiple Inheritence"
   ]
  },
  {
   "cell_type": "markdown",
   "id": "64171663",
   "metadata": {},
   "source": [
    "When a class can be derived from more than one class\n",
    "this type of inheritance is called multiple inheritance.\n",
    "In multiple inheritance all the features of the base classes\n",
    "are inherited to the derived class.\n"
   ]
  },
  {
   "cell_type": "raw",
   "id": "56a1a343",
   "metadata": {},
   "source": [
    "Wood       Strings--------(ParentClasses)\n",
    " \\           /\n",
    "  \\         /\n",
    "   \\       /\n",
    "    \\     /\n",
    "     \\   /\n",
    "     Guitar ----------------------(Child Class)"
   ]
  },
  {
   "cell_type": "markdown",
   "id": "43b59f0f",
   "metadata": {},
   "source": [
    "Here Guitar is a child class derived from Wood and Strings classes.\n",
    "So, here Guitar will inherit both the properties of Wood class and Strings class.\n",
    "Hence we can invoke the constructors of parent classes from the child classes."
   ]
  },
  {
   "cell_type": "code",
   "execution_count": 13,
   "id": "42f02392",
   "metadata": {},
   "outputs": [
    {
     "name": "stdout",
     "output_type": "stream",
     "text": [
      "Type of Guitar Acoustic\n",
      "Type of Wood Mahogany\n",
      "Type of String Bronze\n"
     ]
    }
   ],
   "source": [
    "# Here we  \n",
    "class Wood:\n",
    "    def __init__(self,wood):\n",
    "        self.wood = wood\n",
    "        \n",
    "class Strings:\n",
    "    def __init__(self,string):\n",
    "        self.string = string\n",
    "        \n",
    "class Guitar(Wood , Strings):\n",
    "    def __init__(self,guitar,wood,string):\n",
    "        self.guitar = guitar\n",
    "        # Here we can invoking contructors of class Wood\n",
    "        Wood.__init__(self,wood)\n",
    "        # Here we can invoking contructors of class Strings\n",
    "        Strings.__init__(self,string)\n",
    "        \n",
    "    def display(self):\n",
    "        print('Type of Guitar',self.guitar)\n",
    "        print('Type of Wood', self.wood)\n",
    "        print('Type of String',self.string)\n",
    "\n",
    "s1 = Guitar('Acoustic','Mahogany','Bronze')\n",
    "s1.display()"
   ]
  },
  {
   "cell_type": "markdown",
   "id": "42d45d3e",
   "metadata": {},
   "source": [
    "# Decorators"
   ]
  },
  {
   "cell_type": "markdown",
   "id": "d9b4cf9b",
   "metadata": {},
   "source": [
    "A decorator is just a function that takes another function as\n",
    "an argument and extends its behavior without explicitly modifying it.\n"
   ]
  },
  {
   "cell_type": "markdown",
   "id": "da56ac0b",
   "metadata": {},
   "source": [
    "###  Method 1"
   ]
  },
  {
   "cell_type": "markdown",
   "id": "f23d9185",
   "metadata": {},
   "source": [
    "Implementing without using @ and directly assigning the decorated\n",
    "function to the original function."
   ]
  },
  {
   "cell_type": "markdown",
   "id": "1610f2a0",
   "metadata": {},
   "source": [
    "In the below example we are assigning new functionalities to the add function.\n",
    "We are using additional print statements which are no there in the add function.\n",
    "The original add functions returns the sum of two numbers."
   ]
  },
  {
   "cell_type": "code",
   "execution_count": 6,
   "id": "99d3af34",
   "metadata": {},
   "outputs": [
    {
     "name": "stdout",
     "output_type": "stream",
     "text": [
      "Executing the newadd function\n",
      "Original Add function\n",
      "Executed the newadd function\n",
      "Sum =  5\n"
     ]
    }
   ],
   "source": [
    "def dec1(func1):\n",
    "    def newadd(a,b):\n",
    "        print('Executing the newadd function')\n",
    "        result = func1(a,b)\n",
    "        print('Executed the newadd function')\n",
    "        return result\n",
    "    return newadd\n",
    "def add(a,b):\n",
    "    print('Original Add function')\n",
    "    return a+b\n",
    "#Passing add function to decorator    \n",
    "add = dec1(add)\n",
    "print('Sum = ',add(2,3))"
   ]
  },
  {
   "cell_type": "markdown",
   "id": "3de08587",
   "metadata": {},
   "source": [
    "### Method 2"
   ]
  },
  {
   "cell_type": "markdown",
   "id": "e1099aff",
   "metadata": {},
   "source": [
    "Using the @ instead of directly passing the function as argument.\n",
    "It will do the same thing as the earlier example."
   ]
  },
  {
   "cell_type": "code",
   "execution_count": 8,
   "id": "1b175da4",
   "metadata": {},
   "outputs": [
    {
     "name": "stdout",
     "output_type": "stream",
     "text": [
      "Executing the newadd function\n",
      "Original Add function\n",
      "Executed the newadd function\n",
      "Sum =  5\n"
     ]
    }
   ],
   "source": [
    "def dec1(func1):\n",
    "    def newadd(a,b):\n",
    "        print('Executing the newadd function')\n",
    "        result = func1(a,b)\n",
    "        print('Executed the newadd function')\n",
    "        return result\n",
    "    return newadd\n",
    "@dec1\n",
    "def add(a,b):\n",
    "    print('Original Add function')\n",
    "    return a+b\n",
    "\n",
    "print('Sum = ',add(2,3))"
   ]
  },
  {
   "cell_type": "code",
   "execution_count": null,
   "id": "3275543c",
   "metadata": {},
   "outputs": [],
   "source": []
  }
 ],
 "metadata": {
  "kernelspec": {
   "display_name": "Python 3 (ipykernel)",
   "language": "python",
   "name": "python3"
  },
  "language_info": {
   "codemirror_mode": {
    "name": "ipython",
    "version": 3
   },
   "file_extension": ".py",
   "mimetype": "text/x-python",
   "name": "python",
   "nbconvert_exporter": "python",
   "pygments_lexer": "ipython3",
   "version": "3.9.7"
  }
 },
 "nbformat": 4,
 "nbformat_minor": 5
}
